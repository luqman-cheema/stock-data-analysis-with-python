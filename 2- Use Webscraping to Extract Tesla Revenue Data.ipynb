{
  "nbformat": 4,
  "nbformat_minor": 0,
  "metadata": {
    "colab": {
      "provenance": []
    },
    "kernelspec": {
      "name": "python3",
      "display_name": "Python 3"
    },
    "language_info": {
      "name": "python"
    }
  },
  "cells": [
    {
      "cell_type": "markdown",
      "source": [
        "\n",
        "# **Extracting and Visualizing Stock Data using Python**\n",
        "\n",
        "# Problem - 2: Use Webscraping to Extract Tesla Revenue Data\n",
        "\n"
      ],
      "metadata": {
        "id": "-RJxGjrmnb_C"
      }
    },
    {
      "cell_type": "markdown",
      "source": [
        "This Python script demonstrates how to extract Tesla's revenue data using web scraping techniques and data cleaning. By employing requests and BeautifulSoup, the HTML content of the webpage is fetched and parsed to locate the revenue table. The table is processed into a pandas dataframe, where columns are renamed and the Revenue column is cleaned by removing special characters and handling missing values. This structured dataset allows for seamless analysis of Tesla's historical revenue trends, showcasing efficient data extraction and preparation methods for data analysts."
      ],
      "metadata": {
        "id": "6MSf1wkvEyz5"
      }
    },
    {
      "cell_type": "code",
      "source": [
        "!pip install bs4\n",
        "!pip install nbformat\n",
        "\n",
        "import pandas as pd\n",
        "import requests\n",
        "from bs4 import BeautifulSoup\n",
        "import warnings\n",
        "# Ignore all warnings\n",
        "warnings.filterwarnings(\"ignore\", category=FutureWarning)\n",
        "\n",
        "tesla_url = \"https://cf-courses-data.s3.us.cloud-object-storage.appdomain.cloud/IBMDeveloperSkillsNetwork-PY0220EN-SkillsNetwork/labs/project/revenue.htm\"\n",
        "\n",
        "html_data = requests.get(tesla_url).text\n",
        "\n",
        "soup = BeautifulSoup(html_data,\"html.parser\")\n",
        "soup.title\n",
        "\n",
        "table = soup.find(\"table\")\n",
        "tesla_revenue = pd.read_html(str(table))[0]\n",
        "\n",
        "# Rename columns to 'Date' and 'Revenue'\n",
        "tesla_revenue.columns = ['Date', 'Revenue']\n",
        "\n",
        "tesla_revenue[\"Revenue\"] = tesla_revenue['Revenue'].str.replace(',|\\$',\"\")\n",
        "\n",
        "tesla_revenue.dropna(inplace=True)\n",
        "\n",
        "tesla_revenue = tesla_revenue[tesla_revenue['Revenue'] != \"\"]\n",
        "\n",
        "tesla_revenue.dropna(inplace=True)\n",
        "tesla_revenue = tesla_revenue[tesla_revenue[\"Revenue\"] != \"\"]\n",
        "print(tesla_revenue.tail())  # Display the last 5 rows"
      ],
      "metadata": {
        "id": "hPMg6RdLpZAI",
        "colab": {
          "base_uri": "https://localhost:8080/"
        },
        "outputId": "2cc86701-936a-4789-ea76-8be4ce69fa0a"
      },
      "execution_count": 1,
      "outputs": [
        {
          "output_type": "stream",
          "name": "stdout",
          "text": [
            "Collecting bs4\n",
            "  Downloading bs4-0.0.2-py2.py3-none-any.whl.metadata (411 bytes)\n",
            "Requirement already satisfied: beautifulsoup4 in /usr/local/lib/python3.11/dist-packages (from bs4) (4.13.3)\n",
            "Requirement already satisfied: soupsieve>1.2 in /usr/local/lib/python3.11/dist-packages (from beautifulsoup4->bs4) (2.6)\n",
            "Requirement already satisfied: typing-extensions>=4.0.0 in /usr/local/lib/python3.11/dist-packages (from beautifulsoup4->bs4) (4.12.2)\n",
            "Downloading bs4-0.0.2-py2.py3-none-any.whl (1.2 kB)\n",
            "Installing collected packages: bs4\n",
            "Successfully installed bs4-0.0.2\n",
            "Requirement already satisfied: nbformat in /usr/local/lib/python3.11/dist-packages (5.10.4)\n",
            "Requirement already satisfied: fastjsonschema>=2.15 in /usr/local/lib/python3.11/dist-packages (from nbformat) (2.21.1)\n",
            "Requirement already satisfied: jsonschema>=2.6 in /usr/local/lib/python3.11/dist-packages (from nbformat) (4.23.0)\n",
            "Requirement already satisfied: jupyter-core!=5.0.*,>=4.12 in /usr/local/lib/python3.11/dist-packages (from nbformat) (5.7.2)\n",
            "Requirement already satisfied: traitlets>=5.1 in /usr/local/lib/python3.11/dist-packages (from nbformat) (5.7.1)\n",
            "Requirement already satisfied: attrs>=22.2.0 in /usr/local/lib/python3.11/dist-packages (from jsonschema>=2.6->nbformat) (25.3.0)\n",
            "Requirement already satisfied: jsonschema-specifications>=2023.03.6 in /usr/local/lib/python3.11/dist-packages (from jsonschema>=2.6->nbformat) (2024.10.1)\n",
            "Requirement already satisfied: referencing>=0.28.4 in /usr/local/lib/python3.11/dist-packages (from jsonschema>=2.6->nbformat) (0.36.2)\n",
            "Requirement already satisfied: rpds-py>=0.7.1 in /usr/local/lib/python3.11/dist-packages (from jsonschema>=2.6->nbformat) (0.23.1)\n",
            "Requirement already satisfied: platformdirs>=2.5 in /usr/local/lib/python3.11/dist-packages (from jupyter-core!=5.0.*,>=4.12->nbformat) (4.3.6)\n",
            "Requirement already satisfied: typing-extensions>=4.4.0 in /usr/local/lib/python3.11/dist-packages (from referencing>=0.28.4->jsonschema>=2.6->nbformat) (4.12.2)\n",
            "    Date Revenue\n",
            "8   2013  $2,013\n",
            "9   2012    $413\n",
            "10  2011    $204\n",
            "11  2010    $117\n",
            "12  2009    $112\n"
          ]
        }
      ]
    },
    {
      "cell_type": "markdown",
      "source": [
        "\n",
        "<div class=\"alert alert-block alert-info\" style=\"margin-top: 20px\">\n",
        "<div class=\"row\">\n",
        "<div class=\"col-md-12\">\n",
        "\n",
        "<div class=\"col-md-6\">\n",
        "<p> <strong>Author:</strong>  <a href=\"https://github.com/luqman-cheema\" target=\"_blank\">Luqman Cheema</a> , student of AI & Data, Software Engineer by profession, I hold a Master's degree in Information Technology, besides, I work with Technology and Business leaders to resolve complex business problems. I have a strong background in designing, developing, implementing, and migrating end-to-end software solutions for sectors, including public, private, and multinational organizations.\n",
        "   </p>\n",
        "</div>\n",
        "<div class=\"col-md-3\">\n",
        " <img src=\"https://avatars.githubusercontent.com/u/14842482?v=4\" height=\"100\" width=\"100\" /> </div>\n",
        "</div>\n",
        "</div>\n",
        "\n",
        "<div class=\"row\">\n",
        "<p><a href=\"https://www.linkedin.com/in/luqman-cheema/\" target=\"_blank\">LinkedIn</a></p>\n",
        "</div>\n",
        "\n",
        "<hr>"
      ],
      "metadata": {
        "id": "1IXZlHKHE5bL"
      }
    }
  ]
}